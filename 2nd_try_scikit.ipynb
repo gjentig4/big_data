{
 "cells": [
  {
   "cell_type": "code",
   "execution_count": 12,
   "id": "29b4dd82-8e03-4f5d-90d2-00763e57aaf9",
   "metadata": {},
   "outputs": [
    {
     "name": "stdout",
     "output_type": "stream",
     "text": [
      "<class 'pandas.core.frame.DataFrame'>\n",
      "RangeIndex: 1599999 entries, 0 to 1599998\n",
      "Data columns (total 2 columns):\n",
      " #   Column       Non-Null Count    Dtype \n",
      "---  ------       --------------    ----- \n",
      " 0   pola         1599999 non-null  int64 \n",
      " 1   clean_tweet  1596342 non-null  object\n",
      "dtypes: int64(1), object(1)\n",
      "memory usage: 24.4+ MB\n",
      "None\n"
     ]
    }
   ],
   "source": [
    "import pandas as pd\n",
    "from tqdm import tqdm\n",
    "from sklearn.feature_extraction.text import TfidfVectorizer\n",
    "from sklearn.linear_model import LogisticRegression\n",
    "#from sklearn.neighbors import KNeighborsClassifier\n",
    "from sklearn.metrics import accuracy_score\n",
    "from sklearn.model_selection import KFold\n",
    "\n",
    "# Load the cleaned tweet data into a DataFrame\n",
    "tweets = pd.read_csv('preprocessed_tweets2.csv')\n",
    "\n",
    "print(tweets.info())"
   ]
  },
  {
   "cell_type": "code",
   "execution_count": 13,
   "id": "be503829-0297-4853-bae0-d302fb5315fb",
   "metadata": {},
   "outputs": [
    {
     "name": "stdout",
     "output_type": "stream",
     "text": [
      "<class 'pandas.core.frame.DataFrame'>\n",
      "Int64Index: 1596342 entries, 0 to 1599998\n",
      "Data columns (total 2 columns):\n",
      " #   Column       Non-Null Count    Dtype \n",
      "---  ------       --------------    ----- \n",
      " 0   pola         1596342 non-null  int64 \n",
      " 1   clean_tweet  1596342 non-null  object\n",
      "dtypes: int64(1), object(1)\n",
      "memory usage: 36.5+ MB\n",
      "None\n"
     ]
    }
   ],
   "source": [
    "tweets = tweets.dropna()\n",
    "print(tweets.info())"
   ]
  },
  {
   "cell_type": "code",
   "execution_count": 14,
   "id": "0afb38fd-eadc-4ee2-b1d5-b636d706765f",
   "metadata": {},
   "outputs": [
    {
     "name": "stdout",
     "output_type": "stream",
     "text": [
      "Index(['pola', 'clean_tweet'], dtype='object')\n"
     ]
    }
   ],
   "source": [
    "print(tweets.columns)"
   ]
  },
  {
   "cell_type": "code",
   "execution_count": null,
   "id": "249a706d-2049-4f88-b31c-aff45f041e2d",
   "metadata": {},
   "outputs": [
    {
     "name": "stdout",
     "output_type": "stream",
     "text": [
      "X and y have the same number of rows\n",
      "Row indices match up\n"
     ]
    },
    {
     "name": "stderr",
     "output_type": "stream",
     "text": [
      "0it [00:00, ?it/s]"
     ]
    }
   ],
   "source": [
    "# Vectorize the tweets using TF-IDF\n",
    "vectorizer = TfidfVectorizer(stop_words='english', max_df=0.9)\n",
    "X = vectorizer.fit_transform(tweets['clean_tweet'])\n",
    "y = tweets['pola']\n",
    "\n",
    "tweets = tweets.reset_index(drop=True)\n",
    "\n",
    "# Check that X and y have the same number of rows\n",
    "if X.shape[0] != y.shape[0]:\n",
    "    print('Error: X and y have different number of rows')\n",
    "else:\n",
    "    print('X and y have the same number of rows')\n",
    "\n",
    "# Check that the row indices of X match up with the index of the tweets dataframe\n",
    "if not tweets.index.equals(y.index):\n",
    "    print('Error: row indices of y do not match up with tweets dataframe')\n",
    "elif not tweets.index.equals(pd.RangeIndex(start=0, stop=X.shape[0])):\n",
    "    print('Error: row indices of X do not match up with tweets dataframe')\n",
    "else:\n",
    "    print('Row indices match up')\n",
    "    \n",
    "\n",
    "\n",
    "\n",
    "# Train a logistic regression model using KFold cross-validation\n",
    "kf = KFold(n_splits=5)\n",
    "accuracy_scores = []\n",
    "for train_idx, test_idx in tqdm(kf.split(X)):\n",
    "    X_train, y_train = X[train_idx], y[train_idx]\n",
    "    X_test, y_test = X[test_idx], y[test_idx]\n",
    "    lr = LogisticRegression()\n",
    "    lr.fit(X_train, y_train)\n",
    "    y_pred = lr.predict(X_test)\n",
    "    accuracy = accuracy_score(y_test, y_pred)\n",
    "    accuracy_scores.append(accuracy)\n",
    "\n",
    "# Calculate the mean accuracy across all folds\n",
    "mean_accuracy = sum(accuracy_scores) / len(accuracy_scores)\n",
    "print(f'Mean accuracy: {mean_accuracy:.2f}')"
   ]
  },
  {
   "cell_type": "code",
   "execution_count": 9,
   "id": "9631e15e-d4d5-4bad-b5ed-269a5a0b4b4e",
   "metadata": {},
   "outputs": [],
   "source": []
  },
  {
   "cell_type": "code",
   "execution_count": 10,
   "id": "bf794f15-1f9c-4f32-a5c0-cb5e988deeaa",
   "metadata": {},
   "outputs": [
    {
     "name": "stdout",
     "output_type": "stream",
     "text": [
      "X and y have the same number of rows\n",
      "Error: row indices of y do not match up with tweets dataframe\n"
     ]
    }
   ],
   "source": [
    "# Check that X and y have the same number of rows\n",
    "if X.shape[0] != y.shape[0]:\n",
    "    print('Error: X and y have different number of rows')\n",
    "else:\n",
    "    print('X and y have the same number of rows')\n",
    "\n",
    "# Check that the row indices of X match up with the index of the tweets dataframe\n",
    "if not tweets.index.equals(y.index):\n",
    "    print('Error: row indices of y do not match up with tweets dataframe')\n",
    "elif not tweets.index.equals(pd.RangeIndex(start=0, stop=X.shape[0])):\n",
    "    print('Error: row indices of X do not match up with tweets dataframe')\n",
    "else:\n",
    "    print('Row indices match up')\n"
   ]
  },
  {
   "cell_type": "code",
   "execution_count": null,
   "id": "5af1af2f-06ad-489d-8425-0cb91cfcbac9",
   "metadata": {},
   "outputs": [],
   "source": []
  }
 ],
 "metadata": {
  "kernelspec": {
   "display_name": "Python 3 (ipykernel)",
   "language": "python",
   "name": "python3"
  },
  "language_info": {
   "codemirror_mode": {
    "name": "ipython",
    "version": 3
   },
   "file_extension": ".py",
   "mimetype": "text/x-python",
   "name": "python",
   "nbconvert_exporter": "python",
   "pygments_lexer": "ipython3",
   "version": "3.9.13"
  }
 },
 "nbformat": 4,
 "nbformat_minor": 5
}

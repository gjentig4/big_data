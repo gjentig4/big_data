{
 "cells": [
  {
   "cell_type": "code",
   "execution_count": 3,
   "id": "80770f36-9a9f-4c67-800d-a6fd05576579",
   "metadata": {},
   "outputs": [],
   "source": [
    "import pandas as pd \n",
    "import nltk\n",
    "import re\n",
    "#Try also with encoding='ISO-8859-1' \n",
    "df = pd.read_csv(\"training.1600000.processed.noemoticon.csv\", encoding='latin')\n"
   ]
  },
  {
   "cell_type": "code",
   "execution_count": 4,
   "id": "b7b5d625-14d9-42f4-8596-76c9200da72e",
   "metadata": {},
   "outputs": [],
   "source": [
    "df.columns = ['pola', 'id', 'date', 'query', 'user', 'text']"
   ]
  },
  {
   "cell_type": "code",
   "execution_count": 5,
   "id": "e802e0e6-ed88-4594-97d1-071199238bca",
   "metadata": {},
   "outputs": [],
   "source": [
    "# Remove URLs from tweets\n",
    "df['clean_tweet'] = df['text'].apply(lambda x: re.sub(r'http\\S+', '', x))\n",
    "\n",
    "# Remove user mentions (@)\n",
    "df['clean_tweet'] = df['clean_tweet'].apply(lambda x: re.sub(r'@[A-Za-z0-9_]+', '', x))\n",
    "\n",
    "# remove numbers and special characters\n",
    "df['clean_tweet'] = df['clean_tweet'].apply(lambda x: re.sub('[^a-zA-Z\\s]', '', x))\n",
    "\n",
    "# to lowercase\n",
    "df['clean_tweet'] = df['clean_tweet'].apply(lambda x: x.lower())\n"
   ]
  },
  {
   "cell_type": "code",
   "execution_count": null,
   "id": "0e65b7b5-0729-4427-8c53-836cb207c999",
   "metadata": {},
   "outputs": [],
   "source": [
    "# from nltk.corpus import stopwords\n",
    "# from nltk.stem import WordNetLemmatizer\n",
    "# stop_words = stopwords.words('english')\n",
    "# lemmatizer = WordNetLemmatizer()\n",
    "\n",
    "# Tokenize tweets\n",
    "# df['clean_tweet'] = df['clean_tweet'].apply(lambda x: nltk.word_tokenize(x))\n",
    "\n",
    "# Remove stop words and lemmatize tokens\n",
    "#df['clean_tweet'] = df['clean_tweet'].apply(lambda tweet: [lemmatizer.lemmatize(word) for word in tweet if word not in stop_words])\n",
    "\n",
    "# Join tokens back into a single string\n",
    "#df['clean_tweet'] = df['clean_tweet'].apply(lambda tweet: ' '.join(tweet))"
   ]
  },
  {
   "cell_type": "code",
   "execution_count": 18,
   "id": "eec2ad67-66e4-415a-878f-968d3e9af144",
   "metadata": {},
   "outputs": [
    {
     "name": "stdout",
     "output_type": "stream",
     "text": [
      "is upset that he cant update his facebook by texting it and might cry as a result school today also blah\n"
     ]
    }
   ],
   "source": [
    "print(df['clean_tweet'].iloc[0])"
   ]
  },
  {
   "cell_type": "code",
   "execution_count": 19,
   "id": "5e05b1fb-80a3-40f9-8489-18cd7e433437",
   "metadata": {},
   "outputs": [],
   "source": [
    "# Remove stop words and lemmatize tokens\n",
    "#df['clean_tweet'] = df['clean_tweet'].apply(lambda tweet: [lemmatizer.lemmatize(word) for word in tweet if word not in stop_words])\n",
    "\n",
    "# Join tokens back into a single string\n",
    "#df['clean_tweet'] = df['clean_tweet'].apply(lambda tweet: ' '.join(tweet))"
   ]
  },
  {
   "cell_type": "code",
   "execution_count": 23,
   "id": "a9ede923-65d0-499a-b7f2-c8bcb68e18d7",
   "metadata": {},
   "outputs": [
    {
     "name": "stdout",
     "output_type": "stream",
     "text": [
      "i dived many times for the ball managed to save the rest go out of bounds\n"
     ]
    }
   ],
   "source": [
    "print(df['clean_tweet'].iloc[1])"
   ]
  },
  {
   "cell_type": "code",
   "execution_count": 10,
   "id": "347b4963-8439-4a2b-93e2-54fd4c177710",
   "metadata": {},
   "outputs": [
    {
     "name": "stdout",
     "output_type": "stream",
     "text": [
      "0    is upset that he cant update his facebook by t...\n",
      "1    i dived many times for the ball managed to sav...\n",
      "2       my whole body feels itchy and like its on fire\n",
      "3    no its not behaving at all im mad why am i her...\n",
      "4                                   not the whole crew\n",
      "Name: clean_tweet, dtype: object\n"
     ]
    }
   ],
   "source": [
    "print(df['clean_tweet'].head())"
   ]
  },
  {
   "cell_type": "code",
   "execution_count": 14,
   "id": "f708823b-0cf6-4c0a-ae32-dcecc2cd2aae",
   "metadata": {},
   "outputs": [],
   "source": [
    "df['clean_tweet'] = df['clean_tweet'].apply(lambda x: re.sub(r'\\s+', ' ', x))\n"
   ]
  },
  {
   "cell_type": "code",
   "execution_count": 17,
   "id": "e335b565-43ab-4842-a2fb-22fa1e0869e3",
   "metadata": {},
   "outputs": [
    {
     "name": "stdout",
     "output_type": "stream",
     "text": [
      "0    is upset that he cant update his facebook by t...\n",
      "1    i dived many times for the ball managed to sav...\n",
      "2       my whole body feels itchy and like its on fire\n",
      "3    no its not behaving at all im mad why am i her...\n",
      "4                                   not the whole crew\n",
      "5                                           need a hug\n",
      "6    hey long time no see yes rains a bit only a bi...\n",
      "7                              nope they didnt have it\n",
      "8                                         que me muera\n",
      "9               spring break in plain city its snowing\n",
      "Name: clean_tweet, dtype: object\n"
     ]
    }
   ],
   "source": [
    "print(df['clean_tweet'].head(10))"
   ]
  },
  {
   "cell_type": "code",
   "execution_count": 43,
   "id": "47e90d4b-8bca-4fa1-8e34-debcd25fad1a",
   "metadata": {},
   "outputs": [
    {
     "name": "stdout",
     "output_type": "stream",
     "text": [
      "<class 'pandas.core.frame.DataFrame'>\n",
      "RangeIndex: 1599999 entries, 0 to 1599998\n",
      "Data columns (total 7 columns):\n",
      " #   Column       Non-Null Count    Dtype \n",
      "---  ------       --------------    ----- \n",
      " 0   pola         1599999 non-null  int64 \n",
      " 1   id           1599999 non-null  int64 \n",
      " 2   date         1599999 non-null  object\n",
      " 3   query        1599999 non-null  object\n",
      " 4   user         1599999 non-null  object\n",
      " 5   text         1599999 non-null  object\n",
      " 6   clean_tweet  1599999 non-null  object\n",
      "dtypes: int64(2), object(5)\n",
      "memory usage: 85.4+ MB\n",
      "None\n"
     ]
    }
   ],
   "source": [
    "print(df.info())"
   ]
  },
  {
   "cell_type": "code",
   "execution_count": 44,
   "id": "c5264931-4f2a-4481-bec8-e9786faa3d09",
   "metadata": {},
   "outputs": [
    {
     "name": "stdout",
     "output_type": "stream",
     "text": [
      "Index(['pola', 'id', 'date', 'query', 'user', 'text', 'clean_tweet'], dtype='object')\n"
     ]
    }
   ],
   "source": [
    "print(df.columns)"
   ]
  },
  {
   "cell_type": "code",
   "execution_count": 24,
   "id": "06d7e603-78e5-4c67-b389-6958b998abc1",
   "metadata": {},
   "outputs": [
    {
     "name": "stdout",
     "output_type": "stream",
     "text": [
      "<class 'pandas.core.frame.DataFrame'>\n",
      "RangeIndex: 1599999 entries, 0 to 1599998\n",
      "Data columns (total 2 columns):\n",
      " #   Column       Non-Null Count    Dtype \n",
      "---  ------       --------------    ----- \n",
      " 0   pola         1599999 non-null  int64 \n",
      " 1   clean_tweet  1599999 non-null  object\n",
      "dtypes: int64(1), object(1)\n",
      "memory usage: 24.4+ MB\n",
      "None\n"
     ]
    }
   ],
   "source": [
    "# Drop unnecessary columns\n",
    "df = df.drop(['id', 'date', 'query', 'user', 'text'], axis=1)\n",
    "print(df.info())"
   ]
  },
  {
   "cell_type": "code",
   "execution_count": 25,
   "id": "928c554c-54a2-406a-a0ac-efee22d7152a",
   "metadata": {},
   "outputs": [
    {
     "name": "stdout",
     "output_type": "stream",
     "text": [
      "<class 'pandas.core.frame.DataFrame'>\n",
      "RangeIndex: 1599999 entries, 0 to 1599998\n",
      "Data columns (total 2 columns):\n",
      " #   Column       Non-Null Count    Dtype \n",
      "---  ------       --------------    ----- \n",
      " 0   pola         1599999 non-null  int64 \n",
      " 1   clean_tweet  1599999 non-null  object\n",
      "dtypes: int64(1), object(1)\n",
      "memory usage: 24.4+ MB\n",
      "None\n"
     ]
    }
   ],
   "source": [
    "df = df.dropna()\n",
    "print(df.info())"
   ]
  },
  {
   "cell_type": "code",
   "execution_count": 26,
   "id": "cfcc90be-f3ed-4c16-948c-d9f6692ee7e2",
   "metadata": {},
   "outputs": [],
   "source": [
    "\n",
    "# Save cleaned dataset to a new CSV file\n",
    "df.to_csv('preprocessed_tweets2.csv', index=False)"
   ]
  },
  {
   "cell_type": "code",
   "execution_count": null,
   "id": "4e0ee17e-9052-497f-894a-6d53e02f23de",
   "metadata": {},
   "outputs": [],
   "source": []
  }
 ],
 "metadata": {
  "kernelspec": {
   "display_name": "Python 3 (ipykernel)",
   "language": "python",
   "name": "python3"
  },
  "language_info": {
   "codemirror_mode": {
    "name": "ipython",
    "version": 3
   },
   "file_extension": ".py",
   "mimetype": "text/x-python",
   "name": "python",
   "nbconvert_exporter": "python",
   "pygments_lexer": "ipython3",
   "version": "3.9.13"
  }
 },
 "nbformat": 4,
 "nbformat_minor": 5
}
